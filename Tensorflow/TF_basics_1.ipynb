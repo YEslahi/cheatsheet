{
 "cells": [
  {
   "cell_type": "code",
   "execution_count": 1,
   "id": "narrow-agenda",
   "metadata": {},
   "outputs": [],
   "source": [
    "# TF basics 1\n",
    "import tensorflow as tf"
   ]
  },
  {
   "cell_type": "code",
   "execution_count": 2,
   "id": "approved-rating",
   "metadata": {},
   "outputs": [
    {
     "data": {
      "text/plain": [
       "'2.4.1'"
      ]
     },
     "execution_count": 2,
     "metadata": {},
     "output_type": "execute_result"
    }
   ],
   "source": [
    "tf.__version__"
   ]
  },
  {
   "cell_type": "markdown",
   "id": "hairy-winning",
   "metadata": {},
   "source": [
    "# TF1 vs TF2 \n",
    "\n",
    "tensorflow 2 is by default in eager execution mode while tensorflow1 is not. To print a constant in tensorflow 1, you need a tf.Session() while for tf 2, you simply use tf.print."
   ]
  },
  {
   "cell_type": "code",
   "execution_count": 9,
   "id": "experienced-manitoba",
   "metadata": {},
   "outputs": [],
   "source": [
    "hello = tf.constant(\"Hello \")\n",
    "world = tf.constant(\"World\")"
   ]
  },
  {
   "cell_type": "code",
   "execution_count": 10,
   "id": "residential-control",
   "metadata": {},
   "outputs": [
    {
     "name": "stdout",
     "output_type": "stream",
     "text": [
      "Hello \n"
     ]
    }
   ],
   "source": [
    "tf.print(hello)"
   ]
  },
  {
   "cell_type": "code",
   "execution_count": 11,
   "id": "through-helena",
   "metadata": {},
   "outputs": [
    {
     "name": "stdout",
     "output_type": "stream",
     "text": [
      "Hello World\n"
     ]
    }
   ],
   "source": [
    "tf.print(hello+world)"
   ]
  },
  {
   "cell_type": "code",
   "execution_count": 12,
   "id": "diverse-costume",
   "metadata": {},
   "outputs": [],
   "source": [
    "a = tf.constant(1)"
   ]
  },
  {
   "cell_type": "code",
   "execution_count": 13,
   "id": "driving-appraisal",
   "metadata": {},
   "outputs": [],
   "source": [
    "b = tf.constant(2)"
   ]
  },
  {
   "cell_type": "code",
   "execution_count": 15,
   "id": "gorgeous-grill",
   "metadata": {},
   "outputs": [
    {
     "data": {
      "text/plain": [
       "tensorflow.python.framework.ops.EagerTensor"
      ]
     },
     "execution_count": 15,
     "metadata": {},
     "output_type": "execute_result"
    }
   ],
   "source": [
    "# again, in tf1 you get type ops.Tensor while in tensorflow2 you get the eager tensor.\n",
    "type(a)"
   ]
  },
  {
   "cell_type": "code",
   "execution_count": 19,
   "id": "received-journalism",
   "metadata": {},
   "outputs": [
    {
     "name": "stdout",
     "output_type": "stream",
     "text": [
      "3\n"
     ]
    }
   ],
   "source": [
    "tf.print(a+b)"
   ]
  },
  {
   "cell_type": "code",
   "execution_count": 23,
   "id": "periodic-romance",
   "metadata": {},
   "outputs": [
    {
     "data": {
      "text/plain": [
       "<tf.Tensor: shape=(4, 4), dtype=int32, numpy=\n",
       "array([[1, 1, 1, 1],\n",
       "       [1, 1, 1, 1],\n",
       "       [1, 1, 1, 1],\n",
       "       [1, 1, 1, 1]], dtype=int32)>"
      ]
     },
     "execution_count": 23,
     "metadata": {},
     "output_type": "execute_result"
    }
   ],
   "source": [
    "fill_mat = tf.fill((4,4), 1)\n",
    "fill_mat"
   ]
  },
  {
   "cell_type": "code",
   "execution_count": 22,
   "id": "frequent-representative",
   "metadata": {},
   "outputs": [
    {
     "data": {
      "text/plain": [
       "<tf.Tensor: shape=(4, 4), dtype=float32, numpy=\n",
       "array([[0., 0., 0., 0.],\n",
       "       [0., 0., 0., 0.],\n",
       "       [0., 0., 0., 0.],\n",
       "       [0., 0., 0., 0.]], dtype=float32)>"
      ]
     },
     "execution_count": 22,
     "metadata": {},
     "output_type": "execute_result"
    }
   ],
   "source": [
    "fill_zeros = tf.zeros((4,4))\n",
    "fill_zeros"
   ]
  },
  {
   "cell_type": "code",
   "execution_count": 27,
   "id": "sharp-acrylic",
   "metadata": {},
   "outputs": [
    {
     "data": {
      "text/plain": [
       "<tf.Tensor: shape=(4, 4), dtype=float32, numpy=\n",
       "array([[ 0.15616064, -0.5532463 , -0.03943237,  0.32716155],\n",
       "       [ 1.4482397 , -0.5322301 ,  1.6237153 , -1.6458195 ],\n",
       "       [-2.6940103 ,  0.4061563 ,  0.12338038,  0.43604782],\n",
       "       [ 0.79462063, -1.4722733 ,  0.9518234 ,  0.88933116]],\n",
       "      dtype=float32)>"
      ]
     },
     "execution_count": 27,
     "metadata": {},
     "output_type": "execute_result"
    }
   ],
   "source": [
    "# tf1 = random_normal\n",
    "fill_rand_normal = tf.random.normal((4,4), mean=0, stddev=1.0)\n",
    "fill_rand_normal"
   ]
  },
  {
   "cell_type": "code",
   "execution_count": 29,
   "id": "multiple-report",
   "metadata": {},
   "outputs": [
    {
     "data": {
      "text/plain": [
       "<tf.Tensor: shape=(4, 4), dtype=float32, numpy=\n",
       "array([[0.6238215 , 0.467721  , 0.04259872, 0.8310926 ],\n",
       "       [0.5965407 , 0.58184326, 0.76275146, 0.78428197],\n",
       "       [0.7524179 , 0.896286  , 0.3123852 , 0.05864167],\n",
       "       [0.10502088, 0.2617513 , 0.19812036, 0.22330427]], dtype=float32)>"
      ]
     },
     "execution_count": 29,
     "metadata": {},
     "output_type": "execute_result"
    }
   ],
   "source": [
    "fill_rand_uniform = tf.random.uniform((4,4), minval=0, maxval=1)\n",
    "fill_rand_uniform"
   ]
  },
  {
   "cell_type": "markdown",
   "id": "opened-given",
   "metadata": {},
   "source": [
    "# Metrics multiplication"
   ]
  },
  {
   "cell_type": "code",
   "execution_count": 35,
   "id": "vocational-domain",
   "metadata": {},
   "outputs": [
    {
     "data": {
      "text/plain": [
       "<tf.Tensor: shape=(2,), dtype=int32, numpy=array([2, 2], dtype=int32)>"
      ]
     },
     "execution_count": 35,
     "metadata": {},
     "output_type": "execute_result"
    }
   ],
   "source": [
    "t1 = tf.constant([ [1,2],\n",
    "                   [3,4] ])\n",
    "tf.shape(t1)\n",
    "\n",
    "# in TF1: t1.getshape() "
   ]
  },
  {
   "cell_type": "code",
   "execution_count": 38,
   "id": "premier-array",
   "metadata": {},
   "outputs": [
    {
     "data": {
      "text/plain": [
       "<tf.Tensor: shape=(2,), dtype=int32, numpy=array([2, 1], dtype=int32)>"
      ]
     },
     "execution_count": 38,
     "metadata": {},
     "output_type": "execute_result"
    }
   ],
   "source": [
    "t2 = tf.constant([ [10], [100] ])\n",
    "tf.shape(t2)"
   ]
  },
  {
   "cell_type": "code",
   "execution_count": 40,
   "id": "ordered-personal",
   "metadata": {},
   "outputs": [
    {
     "data": {
      "text/plain": [
       "<tf.Tensor: shape=(2, 1), dtype=int32, numpy=\n",
       "array([[210],\n",
       "       [430]], dtype=int32)>"
      ]
     },
     "execution_count": 40,
     "metadata": {},
     "output_type": "execute_result"
    }
   ],
   "source": [
    "multiplication = tf.matmul(t1,t2)\n",
    "multiplication"
   ]
  },
  {
   "cell_type": "code",
   "execution_count": null,
   "id": "copyrighted-interaction",
   "metadata": {},
   "outputs": [],
   "source": []
  }
 ],
 "metadata": {
  "kernelspec": {
   "display_name": "Python 3",
   "language": "python",
   "name": "python3"
  },
  "language_info": {
   "codemirror_mode": {
    "name": "ipython",
    "version": 3
   },
   "file_extension": ".py",
   "mimetype": "text/x-python",
   "name": "python",
   "nbconvert_exporter": "python",
   "pygments_lexer": "ipython3",
   "version": "3.8.8"
  }
 },
 "nbformat": 4,
 "nbformat_minor": 5
}
